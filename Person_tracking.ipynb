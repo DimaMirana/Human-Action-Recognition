{
 "cells": [
  {
   "cell_type": "code",
   "execution_count": 4,
   "metadata": {},
   "outputs": [],
   "source": [
    "#import libraries\n",
    "import numpy as np\n",
    "import imutils\n",
    "import time\n",
    "from scipy import spatial\n",
    "import cv2\n",
    "import os"
   ]
  },
  {
   "cell_type": "code",
   "execution_count": 5,
   "metadata": {},
   "outputs": [],
   "source": [
    "#parameters\n",
    "FRAMES_BEFORE_CURRENT = 10\n",
    "preDefinedConfidence = 0.5\n",
    "preDefinedThreshold = 0.5\n",
    "inputWidth, inputHeight = 416, 416 #Experimental"
   ]
  },
  {
   "cell_type": "code",
   "execution_count": 6,
   "metadata": {},
   "outputs": [],
   "source": [
    "#loading yolo\n",
    "LABELS = open('./yolo/coco.names').read().strip().split(\"\\n\")\n",
    "yolo_weights = './yolo/yolov3.weights'\n",
    "yolo_cfg = './yolo/yolov3.cfg'"
   ]
  },
  {
   "cell_type": "code",
   "execution_count": 7,
   "metadata": {},
   "outputs": [],
   "source": [
    "list_of_vehicles = [\"person\"]\n",
    "COLORS = np.random.randint(0, 255, size=(len(LABELS), 3), dtype=\"uint8\")"
   ]
  },
  {
   "cell_type": "code",
   "execution_count": 8,
   "metadata": {},
   "outputs": [],
   "source": [
    "#get frame and time\n",
    "def countFPS(start_time, num_frames):\n",
    "    current_time = int(time.time())\n",
    "    if(current_time > start_time):\n",
    "        os.system('clear')\n",
    "        num_frames = 0\n",
    "        start_time = current_time\n",
    "    return start_time, num_frames"
   ]
  },
  {
   "cell_type": "code",
   "execution_count": 9,
   "metadata": {},
   "outputs": [],
   "source": [
    "#draw rectangle on detected cars (chq if boxs exist->flatten the array->get corners for rec,draw rec and circle)\n",
    "def drawDetectionBoxes(idxs, boxes, classIDs, confidences, frame):\n",
    "    if len(idxs) > 0:\n",
    "        for i in idxs.flatten():\n",
    "            (x, y) = (boxes[i][0], boxes[i][1])\n",
    "            (w, h) = (boxes[i][2], boxes[i][3])\n",
    "            color = [int(c) for c in COLORS[classIDs[i]]]\n",
    "            cv2.rectangle(frame, (x, y), (x + w, y + h), color, 2)\n",
    "            text = \"{}: {:.4f}\".format(LABELS[classIDs[i]],confidences[i])\n",
    "            cv2.putText(frame, text, (x, y - 5),cv2.FONT_HERSHEY_SIMPLEX, 0.5, color, 2)\n",
    "            cv2.circle(frame, (x + (w//2), y + (h//2)), 2, (0, 0xFF, 0), thickness=2)"
   ]
  },
  {
   "cell_type": "code",
   "execution_count": 10,
   "metadata": {},
   "outputs": [],
   "source": [
    "#load yolo from disk\n",
    "net = cv2.dnn.readNetFromDarknet(yolo_cfg, yolo_weights)\n",
    "\n",
    "ln = net.getLayerNames()\n",
    "ln = [ln[i[0] - 1] for i in net.getUnconnectedOutLayers()]"
   ]
  },
  {
   "cell_type": "code",
   "execution_count": 11,
   "metadata": {},
   "outputs": [],
   "source": [
    "previous_frame_detections = [{(0, 0): 0} for i in range(FRAMES_BEFORE_CURRENT)]\n",
    "num_frames, vehicle_count = 0, 0\n",
    "start_time = int(time.time())"
   ]
  },
  {
   "cell_type": "code",
   "execution_count": 12,
   "metadata": {},
   "outputs": [
    {
     "name": "stdout",
     "output_type": "stream",
     "text": [
      "Shoplifting001_x264_0.mp4\n",
      "[INFO] cleaning up...\n",
      "Shoplifting001_x264_1.mp4\n",
      "[INFO] cleaning up...\n",
      "Shoplifting001_x264_10.mp4\n",
      "[INFO] cleaning up...\n",
      "Shoplifting001_x264_11.mp4\n",
      "[INFO] cleaning up...\n",
      "Shoplifting001_x264_12.mp4\n",
      "[INFO] cleaning up...\n",
      "Shoplifting001_x264_13.mp4\n",
      "[INFO] cleaning up...\n",
      "Shoplifting001_x264_14.mp4\n",
      "[INFO] cleaning up...\n",
      "Shoplifting001_x264_15.mp4\n",
      "[INFO] cleaning up...\n",
      "Shoplifting001_x264_16.mp4\n",
      "[INFO] cleaning up...\n",
      "Shoplifting001_x264_17.mp4\n",
      "[INFO] cleaning up...\n",
      "Shoplifting001_x264_18.mp4\n",
      "[INFO] cleaning up...\n",
      "Shoplifting001_x264_19.mp4\n",
      "[INFO] cleaning up...\n",
      "Shoplifting001_x264_2.mp4\n",
      "[INFO] cleaning up...\n",
      "Shoplifting001_x264_20.mp4\n",
      "[INFO] cleaning up...\n",
      "Shoplifting001_x264_21.mp4\n",
      "[INFO] cleaning up...\n",
      "Shoplifting001_x264_22.mp4\n",
      "[INFO] cleaning up...\n",
      "Shoplifting001_x264_23.mp4\n",
      "[INFO] cleaning up...\n",
      "Shoplifting001_x264_24.mp4\n",
      "[INFO] cleaning up...\n",
      "Shoplifting001_x264_25.mp4\n",
      "[INFO] cleaning up...\n",
      "Shoplifting001_x264_26.mp4\n",
      "[INFO] cleaning up...\n",
      "Shoplifting001_x264_27.mp4\n",
      "[INFO] cleaning up...\n",
      "Shoplifting001_x264_28.mp4\n",
      "[INFO] cleaning up...\n",
      "Shoplifting001_x264_29.mp4\n",
      "[INFO] cleaning up...\n",
      "Shoplifting001_x264_3.mp4\n",
      "[INFO] cleaning up...\n",
      "Shoplifting001_x264_30.mp4\n",
      "[INFO] cleaning up...\n",
      "Shoplifting001_x264_31.mp4\n",
      "[INFO] cleaning up...\n",
      "Shoplifting001_x264_4.mp4\n",
      "[INFO] cleaning up...\n",
      "Shoplifting001_x264_5.mp4\n",
      "[INFO] cleaning up...\n",
      "Shoplifting001_x264_6.mp4\n",
      "[INFO] cleaning up...\n",
      "Shoplifting001_x264_7.mp4\n",
      "[INFO] cleaning up...\n",
      "Shoplifting001_x264_8.mp4\n",
      "[INFO] cleaning up...\n",
      "Shoplifting001_x264_9.mp4\n",
      "[INFO] cleaning up...\n"
     ]
    }
   ],
   "source": [
    "video_dir = '../Shoplifting/Shoplifting001_x264.mp4'\n",
    "for entry in os.listdir(video_dir):\n",
    "    if os.path.isfile(os.path.join(video_dir, entry)):\n",
    "        print(entry)\n",
    "        cap = cv2.VideoCapture(video_dir+'/'+entry)\n",
    "        video_width = int(cap.get(cv2.CAP_PROP_FRAME_WIDTH))\n",
    "        video_height = int(cap.get(cv2.CAP_PROP_FRAME_HEIGHT))\n",
    "        if cap.isOpened() == False:\n",
    "            print('ERROR FILE NOT FOUND, OR WRONG CODEC USE!')\n",
    "            \n",
    "        while cap.isOpened():\n",
    "            ret,frame = cap.read();\n",
    "            if ret == True:\n",
    "                num_frames += 1\n",
    "                boxes, confidences, classIDs = [], [], []\n",
    "                start_time, num_frames = countFPS(start_time, num_frames)\n",
    "                blob = cv2.dnn.blobFromImage(frame, 1 / 255.0, (inputWidth, inputHeight),swapRB=True, crop=False)\n",
    "                net.setInput(blob)\n",
    "                start = time.time()\n",
    "                layerOutputs = net.forward(ln)\n",
    "                end = time.time()\n",
    "                for output in layerOutputs:\n",
    "                    for i, detection in enumerate(output):\n",
    "                        scores = detection[5:]\n",
    "                        classID = np.argmax(scores)\n",
    "                        confidence = scores[classID]\n",
    "                        if confidence > preDefinedConfidence:\n",
    "                            box = detection[0:4] * np.array([video_width, video_height, video_width, video_height])\n",
    "                            (centerX, centerY, width, height) = box.astype(\"int\")\n",
    "                            x = int(centerX - (width / 2))\n",
    "                            y = int(centerY - (height / 2))\n",
    "                            boxes.append([x, y, int(width), int(height)])\n",
    "                            confidences.append(float(confidence))\n",
    "                            classIDs.append(classID)\n",
    "\n",
    "                idxs = cv2.dnn.NMSBoxes(boxes, confidences, preDefinedConfidence,preDefinedThreshold)\n",
    "                drawDetectionBoxes(idxs, boxes, classIDs, confidences, frame)\n",
    "                cv2.imshow(entry, frame)\n",
    "                if cv2.waitKey(1) & 0xFF == ord('q'):\n",
    "                    break\n",
    "\n",
    "                if (cv2.waitKey(10) & 0xFF == ord('q')):\n",
    "                    break\n",
    "            else:\n",
    "                break\n",
    "\n",
    "\n",
    "        print(\"[INFO] cleaning up...\")\n",
    "        cap.release()\n",
    "        cv2.destroyAllWindows()"
   ]
  },
  {
   "cell_type": "code",
   "execution_count": null,
   "metadata": {},
   "outputs": [],
   "source": []
  }
 ],
 "metadata": {
  "kernelspec": {
   "display_name": "Python 3",
   "language": "python",
   "name": "python3"
  },
  "language_info": {
   "codemirror_mode": {
    "name": "ipython",
    "version": 3
   },
   "file_extension": ".py",
   "mimetype": "text/x-python",
   "name": "python",
   "nbconvert_exporter": "python",
   "pygments_lexer": "ipython3",
   "version": "3.7.4"
  }
 },
 "nbformat": 4,
 "nbformat_minor": 2
}
